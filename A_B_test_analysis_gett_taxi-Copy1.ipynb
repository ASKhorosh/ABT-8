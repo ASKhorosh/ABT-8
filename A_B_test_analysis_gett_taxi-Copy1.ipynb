{
 "cells": [
  {
   "cell_type": "markdown",
   "metadata": {},
   "source": [
    "## Анализ результатов А/В теста в такси Gett\n",
    "\n",
    "Понижение коэффициента surge, чтобы увеличить price-to-order конверсию (во время surge)\n",
    "Ожидаем: выше price-to-order конверсия во время surge\n",
    "\n",
    "Тестовая группа - снизили коэффициент surge.\n",
    "Контрольная группа - значение surge оставили прежним.\n",
    "\n",
    "H0 - конверсия price-to-order в двух группах не отличается.\n",
    "H1 - конверсия price-to-order в тестовой группе выше \n",
    "\n",
    "Односторонняя гипотеза\n"
   ]
  },
  {
   "cell_type": "code",
   "execution_count": 1,
   "metadata": {},
   "outputs": [],
   "source": [
    "import pandas as pd\n",
    "import numpy as np\n",
    "import matplotlib.pyplot as plt\n",
    "import scipy.stats as stats\n",
    "import seaborn as sns\n",
    "import math as mth"
   ]
  },
  {
   "cell_type": "code",
   "execution_count": 2,
   "metadata": {},
   "outputs": [],
   "source": [
    "df = pd.read_csv(r'C:\\Users\\user\\Documents\\Gett\\post_abtest_data.csv')"
   ]
  },
  {
   "cell_type": "code",
   "execution_count": 3,
   "metadata": {},
   "outputs": [
    {
     "data": {
      "text/html": [
       "<div>\n",
       "<style scoped>\n",
       "    .dataframe tbody tr th:only-of-type {\n",
       "        vertical-align: middle;\n",
       "    }\n",
       "\n",
       "    .dataframe tbody tr th {\n",
       "        vertical-align: top;\n",
       "    }\n",
       "\n",
       "    .dataframe thead th {\n",
       "        text-align: right;\n",
       "    }\n",
       "</style>\n",
       "<table border=\"1\" class=\"dataframe\">\n",
       "  <thead>\n",
       "    <tr style=\"text-align: right;\">\n",
       "      <th></th>\n",
       "      <th>user_id</th>\n",
       "      <th>date</th>\n",
       "      <th>app_opened</th>\n",
       "      <th>group</th>\n",
       "      <th>price_seen</th>\n",
       "      <th>order_made</th>\n",
       "      <th>surge</th>\n",
       "      <th>os</th>\n",
       "      <th>user_cancelled</th>\n",
       "      <th>city_center_order</th>\n",
       "      <th>groups</th>\n",
       "    </tr>\n",
       "  </thead>\n",
       "  <tbody>\n",
       "    <tr>\n",
       "      <th>0</th>\n",
       "      <td>867689</td>\n",
       "      <td>2020-05-28</td>\n",
       "      <td>1</td>\n",
       "      <td>Control</td>\n",
       "      <td>1</td>\n",
       "      <td>1</td>\n",
       "      <td>no surge</td>\n",
       "      <td>Android</td>\n",
       "      <td>0.0</td>\n",
       "      <td>1.0</td>\n",
       "      <td>Control</td>\n",
       "    </tr>\n",
       "    <tr>\n",
       "      <th>1</th>\n",
       "      <td>867689</td>\n",
       "      <td>2020-05-29</td>\n",
       "      <td>1</td>\n",
       "      <td>Control</td>\n",
       "      <td>1</td>\n",
       "      <td>0</td>\n",
       "      <td>surge</td>\n",
       "      <td>iOS</td>\n",
       "      <td>NaN</td>\n",
       "      <td>NaN</td>\n",
       "      <td>Control</td>\n",
       "    </tr>\n",
       "    <tr>\n",
       "      <th>2</th>\n",
       "      <td>867689</td>\n",
       "      <td>2020-05-25</td>\n",
       "      <td>1</td>\n",
       "      <td>Control</td>\n",
       "      <td>1</td>\n",
       "      <td>1</td>\n",
       "      <td>surge</td>\n",
       "      <td>Android</td>\n",
       "      <td>0.0</td>\n",
       "      <td>0.0</td>\n",
       "      <td>Control</td>\n",
       "    </tr>\n",
       "    <tr>\n",
       "      <th>3</th>\n",
       "      <td>752172</td>\n",
       "      <td>2020-05-29</td>\n",
       "      <td>1</td>\n",
       "      <td>Control</td>\n",
       "      <td>1</td>\n",
       "      <td>1</td>\n",
       "      <td>surge</td>\n",
       "      <td>Android</td>\n",
       "      <td>0.0</td>\n",
       "      <td>1.0</td>\n",
       "      <td>Control</td>\n",
       "    </tr>\n",
       "    <tr>\n",
       "      <th>4</th>\n",
       "      <td>752172</td>\n",
       "      <td>2020-05-28</td>\n",
       "      <td>1</td>\n",
       "      <td>Control</td>\n",
       "      <td>1</td>\n",
       "      <td>1</td>\n",
       "      <td>no surge</td>\n",
       "      <td>iOS</td>\n",
       "      <td>0.0</td>\n",
       "      <td>0.0</td>\n",
       "      <td>Control</td>\n",
       "    </tr>\n",
       "    <tr>\n",
       "      <th>...</th>\n",
       "      <td>...</td>\n",
       "      <td>...</td>\n",
       "      <td>...</td>\n",
       "      <td>...</td>\n",
       "      <td>...</td>\n",
       "      <td>...</td>\n",
       "      <td>...</td>\n",
       "      <td>...</td>\n",
       "      <td>...</td>\n",
       "      <td>...</td>\n",
       "      <td>...</td>\n",
       "    </tr>\n",
       "    <tr>\n",
       "      <th>101495</th>\n",
       "      <td>777065</td>\n",
       "      <td>2020-05-25</td>\n",
       "      <td>1</td>\n",
       "      <td>Control</td>\n",
       "      <td>1</td>\n",
       "      <td>0</td>\n",
       "      <td>no surge</td>\n",
       "      <td>Android</td>\n",
       "      <td>NaN</td>\n",
       "      <td>NaN</td>\n",
       "      <td>Control</td>\n",
       "    </tr>\n",
       "    <tr>\n",
       "      <th>101496</th>\n",
       "      <td>340213</td>\n",
       "      <td>2020-05-28</td>\n",
       "      <td>1</td>\n",
       "      <td>Control</td>\n",
       "      <td>1</td>\n",
       "      <td>1</td>\n",
       "      <td>no surge</td>\n",
       "      <td>iOS</td>\n",
       "      <td>0.0</td>\n",
       "      <td>1.0</td>\n",
       "      <td>Control</td>\n",
       "    </tr>\n",
       "    <tr>\n",
       "      <th>101497</th>\n",
       "      <td>352605</td>\n",
       "      <td>2020-05-26</td>\n",
       "      <td>1</td>\n",
       "      <td>Test</td>\n",
       "      <td>1</td>\n",
       "      <td>1</td>\n",
       "      <td>no surge</td>\n",
       "      <td>Android</td>\n",
       "      <td>0.0</td>\n",
       "      <td>1.0</td>\n",
       "      <td>Test</td>\n",
       "    </tr>\n",
       "    <tr>\n",
       "      <th>101498</th>\n",
       "      <td>216082</td>\n",
       "      <td>2020-05-26</td>\n",
       "      <td>1</td>\n",
       "      <td>Control</td>\n",
       "      <td>1</td>\n",
       "      <td>0</td>\n",
       "      <td>surge</td>\n",
       "      <td>Android</td>\n",
       "      <td>NaN</td>\n",
       "      <td>NaN</td>\n",
       "      <td>Control</td>\n",
       "    </tr>\n",
       "    <tr>\n",
       "      <th>101499</th>\n",
       "      <td>811817</td>\n",
       "      <td>2020-05-28</td>\n",
       "      <td>1</td>\n",
       "      <td>Test</td>\n",
       "      <td>1</td>\n",
       "      <td>1</td>\n",
       "      <td>no surge</td>\n",
       "      <td>Android</td>\n",
       "      <td>0.0</td>\n",
       "      <td>1.0</td>\n",
       "      <td>Test</td>\n",
       "    </tr>\n",
       "  </tbody>\n",
       "</table>\n",
       "<p>101500 rows × 11 columns</p>\n",
       "</div>"
      ],
      "text/plain": [
       "        user_id        date  app_opened    group  price_seen  order_made  \\\n",
       "0        867689  2020-05-28           1  Control           1           1   \n",
       "1        867689  2020-05-29           1  Control           1           0   \n",
       "2        867689  2020-05-25           1  Control           1           1   \n",
       "3        752172  2020-05-29           1  Control           1           1   \n",
       "4        752172  2020-05-28           1  Control           1           1   \n",
       "...         ...         ...         ...      ...         ...         ...   \n",
       "101495   777065  2020-05-25           1  Control           1           0   \n",
       "101496   340213  2020-05-28           1  Control           1           1   \n",
       "101497   352605  2020-05-26           1     Test           1           1   \n",
       "101498   216082  2020-05-26           1  Control           1           0   \n",
       "101499   811817  2020-05-28           1     Test           1           1   \n",
       "\n",
       "           surge       os  user_cancelled  city_center_order   groups  \n",
       "0       no surge  Android             0.0                1.0  Control  \n",
       "1          surge      iOS             NaN                NaN  Control  \n",
       "2          surge  Android             0.0                0.0  Control  \n",
       "3          surge  Android             0.0                1.0  Control  \n",
       "4       no surge      iOS             0.0                0.0  Control  \n",
       "...          ...      ...             ...                ...      ...  \n",
       "101495  no surge  Android             NaN                NaN  Control  \n",
       "101496  no surge      iOS             0.0                1.0  Control  \n",
       "101497  no surge  Android             0.0                1.0     Test  \n",
       "101498     surge  Android             NaN                NaN  Control  \n",
       "101499  no surge  Android             0.0                1.0     Test  \n",
       "\n",
       "[101500 rows x 11 columns]"
      ]
     },
     "execution_count": 3,
     "metadata": {},
     "output_type": "execute_result"
    }
   ],
   "source": [
    "df"
   ]
  },
  {
   "cell_type": "code",
   "execution_count": 4,
   "metadata": {},
   "outputs": [
    {
     "name": "stdout",
     "output_type": "stream",
     "text": [
      "<class 'pandas.core.frame.DataFrame'>\n",
      "RangeIndex: 101500 entries, 0 to 101499\n",
      "Data columns (total 11 columns):\n",
      " #   Column             Non-Null Count   Dtype  \n",
      "---  ------             --------------   -----  \n",
      " 0   user_id            101500 non-null  int64  \n",
      " 1   date               101500 non-null  object \n",
      " 2   app_opened         101500 non-null  int64  \n",
      " 3   group              101500 non-null  object \n",
      " 4   price_seen         101500 non-null  int64  \n",
      " 5   order_made         101500 non-null  int64  \n",
      " 6   surge              92358 non-null   object \n",
      " 7   os                 101500 non-null  object \n",
      " 8   user_cancelled     70157 non-null   float64\n",
      " 9   city_center_order  70157 non-null   float64\n",
      " 10  groups             101500 non-null  object \n",
      "dtypes: float64(2), int64(4), object(5)\n",
      "memory usage: 8.5+ MB\n"
     ]
    }
   ],
   "source": [
    "df.info()"
   ]
  },
  {
   "cell_type": "code",
   "execution_count": 5,
   "metadata": {},
   "outputs": [],
   "source": [
    "df['date'] = pd.to_datetime(df['date'])"
   ]
  },
  {
   "cell_type": "code",
   "execution_count": 6,
   "metadata": {},
   "outputs": [
    {
     "name": "stdout",
     "output_type": "stream",
     "text": [
      "<class 'pandas.core.frame.DataFrame'>\n",
      "RangeIndex: 101500 entries, 0 to 101499\n",
      "Data columns (total 11 columns):\n",
      " #   Column             Non-Null Count   Dtype         \n",
      "---  ------             --------------   -----         \n",
      " 0   user_id            101500 non-null  int64         \n",
      " 1   date               101500 non-null  datetime64[ns]\n",
      " 2   app_opened         101500 non-null  int64         \n",
      " 3   group              101500 non-null  object        \n",
      " 4   price_seen         101500 non-null  int64         \n",
      " 5   order_made         101500 non-null  int64         \n",
      " 6   surge              92358 non-null   object        \n",
      " 7   os                 101500 non-null  object        \n",
      " 8   user_cancelled     70157 non-null   float64       \n",
      " 9   city_center_order  70157 non-null   float64       \n",
      " 10  groups             101500 non-null  object        \n",
      "dtypes: datetime64[ns](1), float64(2), int64(4), object(4)\n",
      "memory usage: 8.5+ MB\n"
     ]
    }
   ],
   "source": [
    "df.info()"
   ]
  },
  {
   "cell_type": "code",
   "execution_count": 7,
   "metadata": {},
   "outputs": [
    {
     "data": {
      "text/plain": [
       "user_id                  0\n",
       "date                     0\n",
       "app_opened               0\n",
       "group                    0\n",
       "price_seen               0\n",
       "order_made               0\n",
       "surge                 9142\n",
       "os                       0\n",
       "user_cancelled       31343\n",
       "city_center_order    31343\n",
       "groups                   0\n",
       "dtype: int64"
      ]
     },
     "execution_count": 7,
     "metadata": {},
     "output_type": "execute_result"
    }
   ],
   "source": [
    "df.isna().sum()"
   ]
  },
  {
   "cell_type": "markdown",
   "metadata": {},
   "source": [
    "У нас отсутствуют значения в столбце surge, но нет данных о времени, чтобы примерно прикинуть мог бы в этот период быть включен surge или нет. Так как мы не можем восстановить пропущенные значения, удалим их. Они составляют небольшую часть датасета, так что не окажут сильного влияния на конечный итог."
   ]
  },
  {
   "cell_type": "code",
   "execution_count": 8,
   "metadata": {},
   "outputs": [],
   "source": [
    "df = df.dropna(subset=['surge'])"
   ]
  },
  {
   "cell_type": "code",
   "execution_count": 9,
   "metadata": {},
   "outputs": [
    {
     "data": {
      "text/plain": [
       "user_id                  0\n",
       "date                     0\n",
       "app_opened               0\n",
       "group                    0\n",
       "price_seen               0\n",
       "order_made               0\n",
       "surge                    0\n",
       "os                       0\n",
       "user_cancelled       22201\n",
       "city_center_order    22201\n",
       "groups                   0\n",
       "dtype: int64"
      ]
     },
     "execution_count": 9,
     "metadata": {},
     "output_type": "execute_result"
    }
   ],
   "source": [
    "df.isna().sum()"
   ]
  },
  {
   "cell_type": "markdown",
   "metadata": {},
   "source": [
    "В столбцах user_cancelled и city_center_order пропуски заменять не будем, так как они не будут задействованы в анализе.\n",
    "\n",
    "У нас два столбца с группами, посмотрим какие группы категории содержатся в них."
   ]
  },
  {
   "cell_type": "code",
   "execution_count": 10,
   "metadata": {},
   "outputs": [
    {
     "data": {
      "text/plain": [
       "group    groups \n",
       "Control  Control    46039\n",
       "Test     Test       46319\n",
       "Name: user_id, dtype: int64"
      ]
     },
     "execution_count": 10,
     "metadata": {},
     "output_type": "execute_result"
    }
   ],
   "source": [
    "df.groupby(['group', 'groups'])['user_id'].count()"
   ]
  },
  {
   "cell_type": "markdown",
   "metadata": {},
   "source": [
    "Все группы совпадают по своим названиям и количеству действий пользователей в них. Скорее всего это просто дублирование названий (утрочнить у разработчиков - это быстрее, чем сделать сверку данных по id). В идеале, к каждому датасету должно идти описание с указание о том, что за данные содердатся в колонках.\n",
    "\n",
    "Сгруппируем данные по id пользователей."
   ]
  },
  {
   "cell_type": "code",
   "execution_count": 11,
   "metadata": {},
   "outputs": [],
   "source": [
    "users = df.groupby(['user_id', 'date', 'group', 'surge']).agg({'price_seen':'sum', 'order_made':'sum'}).reset_index()"
   ]
  },
  {
   "cell_type": "code",
   "execution_count": 12,
   "metadata": {},
   "outputs": [
    {
     "data": {
      "text/html": [
       "<div>\n",
       "<style scoped>\n",
       "    .dataframe tbody tr th:only-of-type {\n",
       "        vertical-align: middle;\n",
       "    }\n",
       "\n",
       "    .dataframe tbody tr th {\n",
       "        vertical-align: top;\n",
       "    }\n",
       "\n",
       "    .dataframe thead th {\n",
       "        text-align: right;\n",
       "    }\n",
       "</style>\n",
       "<table border=\"1\" class=\"dataframe\">\n",
       "  <thead>\n",
       "    <tr style=\"text-align: right;\">\n",
       "      <th></th>\n",
       "      <th>user_id</th>\n",
       "      <th>date</th>\n",
       "      <th>group</th>\n",
       "      <th>surge</th>\n",
       "      <th>price_seen</th>\n",
       "      <th>order_made</th>\n",
       "    </tr>\n",
       "  </thead>\n",
       "  <tbody>\n",
       "    <tr>\n",
       "      <th>0</th>\n",
       "      <td>100093</td>\n",
       "      <td>2020-05-25</td>\n",
       "      <td>Test</td>\n",
       "      <td>surge</td>\n",
       "      <td>1</td>\n",
       "      <td>1</td>\n",
       "    </tr>\n",
       "    <tr>\n",
       "      <th>1</th>\n",
       "      <td>100093</td>\n",
       "      <td>2020-05-29</td>\n",
       "      <td>Test</td>\n",
       "      <td>no surge</td>\n",
       "      <td>1</td>\n",
       "      <td>1</td>\n",
       "    </tr>\n",
       "    <tr>\n",
       "      <th>2</th>\n",
       "      <td>100093</td>\n",
       "      <td>2020-05-30</td>\n",
       "      <td>Test</td>\n",
       "      <td>no surge</td>\n",
       "      <td>1</td>\n",
       "      <td>1</td>\n",
       "    </tr>\n",
       "    <tr>\n",
       "      <th>3</th>\n",
       "      <td>100093</td>\n",
       "      <td>2020-05-30</td>\n",
       "      <td>Test</td>\n",
       "      <td>surge</td>\n",
       "      <td>1</td>\n",
       "      <td>1</td>\n",
       "    </tr>\n",
       "    <tr>\n",
       "      <th>4</th>\n",
       "      <td>100118</td>\n",
       "      <td>2020-05-28</td>\n",
       "      <td>Test</td>\n",
       "      <td>no surge</td>\n",
       "      <td>1</td>\n",
       "      <td>1</td>\n",
       "    </tr>\n",
       "  </tbody>\n",
       "</table>\n",
       "</div>"
      ],
      "text/plain": [
       "   user_id       date group     surge  price_seen  order_made\n",
       "0   100093 2020-05-25  Test     surge           1           1\n",
       "1   100093 2020-05-29  Test  no surge           1           1\n",
       "2   100093 2020-05-30  Test  no surge           1           1\n",
       "3   100093 2020-05-30  Test     surge           1           1\n",
       "4   100118 2020-05-28  Test  no surge           1           1"
      ]
     },
     "execution_count": 12,
     "metadata": {},
     "output_type": "execute_result"
    }
   ],
   "source": [
    "users.head()"
   ]
  },
  {
   "cell_type": "markdown",
   "metadata": {},
   "source": [
    "Проверим, что в тестовую и контрольную группы попали только уникальные пользователи. Для этого для каждого пользователя посчитаем количество уникальных групп и отсортируем данные по убыванию. Если сплитование прошло неверно и у нас будут пользователи, у которых окажутся в тестовой и контрольной группе одновременно, количество таких групп у них будет = 2 и при сортировке данных они окажутся в начале списка."
   ]
  },
  {
   "cell_type": "code",
   "execution_count": 13,
   "metadata": {},
   "outputs": [
    {
     "data": {
      "text/html": [
       "<div>\n",
       "<style scoped>\n",
       "    .dataframe tbody tr th:only-of-type {\n",
       "        vertical-align: middle;\n",
       "    }\n",
       "\n",
       "    .dataframe tbody tr th {\n",
       "        vertical-align: top;\n",
       "    }\n",
       "\n",
       "    .dataframe thead th {\n",
       "        text-align: right;\n",
       "    }\n",
       "</style>\n",
       "<table border=\"1\" class=\"dataframe\">\n",
       "  <thead>\n",
       "    <tr style=\"text-align: right;\">\n",
       "      <th></th>\n",
       "      <th>user_id</th>\n",
       "      <th>group</th>\n",
       "    </tr>\n",
       "  </thead>\n",
       "  <tbody>\n",
       "    <tr>\n",
       "      <th>0</th>\n",
       "      <td>100093</td>\n",
       "      <td>1</td>\n",
       "    </tr>\n",
       "    <tr>\n",
       "      <th>16014</th>\n",
       "      <td>696026</td>\n",
       "      <td>1</td>\n",
       "    </tr>\n",
       "    <tr>\n",
       "      <th>16023</th>\n",
       "      <td>696183</td>\n",
       "      <td>1</td>\n",
       "    </tr>\n",
       "    <tr>\n",
       "      <th>16022</th>\n",
       "      <td>696174</td>\n",
       "      <td>1</td>\n",
       "    </tr>\n",
       "    <tr>\n",
       "      <th>16021</th>\n",
       "      <td>696164</td>\n",
       "      <td>1</td>\n",
       "    </tr>\n",
       "    <tr>\n",
       "      <th>...</th>\n",
       "      <td>...</td>\n",
       "      <td>...</td>\n",
       "    </tr>\n",
       "    <tr>\n",
       "      <th>8006</th>\n",
       "      <td>401130</td>\n",
       "      <td>1</td>\n",
       "    </tr>\n",
       "    <tr>\n",
       "      <th>8005</th>\n",
       "      <td>401052</td>\n",
       "      <td>1</td>\n",
       "    </tr>\n",
       "    <tr>\n",
       "      <th>8004</th>\n",
       "      <td>401039</td>\n",
       "      <td>1</td>\n",
       "    </tr>\n",
       "    <tr>\n",
       "      <th>8003</th>\n",
       "      <td>401034</td>\n",
       "      <td>1</td>\n",
       "    </tr>\n",
       "    <tr>\n",
       "      <th>24024</th>\n",
       "      <td>999978</td>\n",
       "      <td>1</td>\n",
       "    </tr>\n",
       "  </tbody>\n",
       "</table>\n",
       "<p>24025 rows × 2 columns</p>\n",
       "</div>"
      ],
      "text/plain": [
       "       user_id  group\n",
       "0       100093      1\n",
       "16014   696026      1\n",
       "16023   696183      1\n",
       "16022   696174      1\n",
       "16021   696164      1\n",
       "...        ...    ...\n",
       "8006    401130      1\n",
       "8005    401052      1\n",
       "8004    401039      1\n",
       "8003    401034      1\n",
       "24024   999978      1\n",
       "\n",
       "[24025 rows x 2 columns]"
      ]
     },
     "execution_count": 13,
     "metadata": {},
     "output_type": "execute_result"
    }
   ],
   "source": [
    "users.groupby('user_id')['group'].nunique().reset_index().sort_values(by='group', ascending=False)"
   ]
  },
  {
   "cell_type": "markdown",
   "metadata": {},
   "source": [
    "Пользователей, которые оказали в двух группах одновременно нет, так что семплинг был произведен правильно.\n",
    "\n",
    "Сравним количество пользователей в тестовой и контрольной группе."
   ]
  },
  {
   "cell_type": "code",
   "execution_count": 14,
   "metadata": {},
   "outputs": [
    {
     "data": {
      "text/plain": [
       "group\n",
       "Control    12045\n",
       "Test       11980\n",
       "Name: user_id, dtype: int64"
      ]
     },
     "execution_count": 14,
     "metadata": {},
     "output_type": "execute_result"
    }
   ],
   "source": [
    "users.groupby('group')['user_id'].nunique()"
   ]
  },
  {
   "cell_type": "markdown",
   "metadata": {},
   "source": [
    "Разница в количестве пользователей в двух группах очень незначительна - 0,5%. Так что можно говорить о том, "
   ]
  },
  {
   "cell_type": "code",
   "execution_count": 15,
   "metadata": {},
   "outputs": [
    {
     "data": {
      "text/plain": [
       "Timestamp('2020-05-31 00:00:00')"
      ]
     },
     "execution_count": 15,
     "metadata": {},
     "output_type": "execute_result"
    }
   ],
   "source": [
    "users.date.max()"
   ]
  },
  {
   "cell_type": "code",
   "execution_count": 16,
   "metadata": {},
   "outputs": [
    {
     "data": {
      "text/plain": [
       "Timestamp('2020-05-25 00:00:00')"
      ]
     },
     "execution_count": 16,
     "metadata": {},
     "output_type": "execute_result"
    }
   ],
   "source": [
    "users.date.min()"
   ]
  },
  {
   "cell_type": "markdown",
   "metadata": {},
   "source": [
    "Тест проводился 7 дней - с понедельника по воскресенье.\n",
    "\n",
    "Посмотрим, какое количество пользователей было в какие дни в тестовой и контрольной группе."
   ]
  },
  {
   "cell_type": "code",
   "execution_count": 17,
   "metadata": {},
   "outputs": [
    {
     "data": {
      "text/html": [
       "<div>\n",
       "<style scoped>\n",
       "    .dataframe tbody tr th:only-of-type {\n",
       "        vertical-align: middle;\n",
       "    }\n",
       "\n",
       "    .dataframe tbody tr th {\n",
       "        vertical-align: top;\n",
       "    }\n",
       "\n",
       "    .dataframe thead tr th {\n",
       "        text-align: left;\n",
       "    }\n",
       "\n",
       "    .dataframe thead tr:last-of-type th {\n",
       "        text-align: right;\n",
       "    }\n",
       "</style>\n",
       "<table border=\"1\" class=\"dataframe\">\n",
       "  <thead>\n",
       "    <tr>\n",
       "      <th>date</th>\n",
       "      <th colspan=\"2\" halign=\"left\">2020-05-25</th>\n",
       "      <th colspan=\"2\" halign=\"left\">2020-05-26</th>\n",
       "      <th colspan=\"2\" halign=\"left\">2020-05-27</th>\n",
       "      <th colspan=\"2\" halign=\"left\">2020-05-28</th>\n",
       "      <th colspan=\"2\" halign=\"left\">2020-05-29</th>\n",
       "      <th colspan=\"2\" halign=\"left\">2020-05-30</th>\n",
       "      <th colspan=\"2\" halign=\"left\">2020-05-31</th>\n",
       "    </tr>\n",
       "    <tr>\n",
       "      <th>group</th>\n",
       "      <th>Control</th>\n",
       "      <th>Test</th>\n",
       "      <th>Control</th>\n",
       "      <th>Test</th>\n",
       "      <th>Control</th>\n",
       "      <th>Test</th>\n",
       "      <th>Control</th>\n",
       "      <th>Test</th>\n",
       "      <th>Control</th>\n",
       "      <th>Test</th>\n",
       "      <th>Control</th>\n",
       "      <th>Test</th>\n",
       "      <th>Control</th>\n",
       "      <th>Test</th>\n",
       "    </tr>\n",
       "    <tr>\n",
       "      <th>surge</th>\n",
       "      <th></th>\n",
       "      <th></th>\n",
       "      <th></th>\n",
       "      <th></th>\n",
       "      <th></th>\n",
       "      <th></th>\n",
       "      <th></th>\n",
       "      <th></th>\n",
       "      <th></th>\n",
       "      <th></th>\n",
       "      <th></th>\n",
       "      <th></th>\n",
       "      <th></th>\n",
       "      <th></th>\n",
       "    </tr>\n",
       "  </thead>\n",
       "  <tbody>\n",
       "    <tr>\n",
       "      <th>no surge</th>\n",
       "      <td>3817</td>\n",
       "      <td>3812</td>\n",
       "      <td>3714</td>\n",
       "      <td>3822</td>\n",
       "      <td>3743</td>\n",
       "      <td>3760</td>\n",
       "      <td>3815</td>\n",
       "      <td>3841</td>\n",
       "      <td>3800</td>\n",
       "      <td>3870</td>\n",
       "      <td>3831</td>\n",
       "      <td>3775</td>\n",
       "      <td>3760</td>\n",
       "      <td>3837</td>\n",
       "    </tr>\n",
       "    <tr>\n",
       "      <th>surge</th>\n",
       "      <td>1867</td>\n",
       "      <td>1916</td>\n",
       "      <td>1876</td>\n",
       "      <td>1871</td>\n",
       "      <td>1898</td>\n",
       "      <td>1909</td>\n",
       "      <td>1910</td>\n",
       "      <td>1821</td>\n",
       "      <td>1879</td>\n",
       "      <td>1889</td>\n",
       "      <td>1918</td>\n",
       "      <td>1868</td>\n",
       "      <td>1921</td>\n",
       "      <td>1932</td>\n",
       "    </tr>\n",
       "  </tbody>\n",
       "</table>\n",
       "</div>"
      ],
      "text/plain": [
       "date     2020-05-25       2020-05-26       2020-05-27       2020-05-28        \\\n",
       "group       Control  Test    Control  Test    Control  Test    Control  Test   \n",
       "surge                                                                          \n",
       "no surge       3817  3812       3714  3822       3743  3760       3815  3841   \n",
       "surge          1867  1916       1876  1871       1898  1909       1910  1821   \n",
       "\n",
       "date     2020-05-29       2020-05-30       2020-05-31        \n",
       "group       Control  Test    Control  Test    Control  Test  \n",
       "surge                                                        \n",
       "no surge       3800  3870       3831  3775       3760  3837  \n",
       "surge          1879  1889       1918  1868       1921  1932  "
      ]
     },
     "execution_count": 17,
     "metadata": {},
     "output_type": "execute_result"
    }
   ],
   "source": [
    "users.pivot_table(index='surge', columns=['date', 'group'], values='user_id', aggfunc='nunique')"
   ]
  },
  {
   "cell_type": "markdown",
   "metadata": {},
   "source": [
    "Пользователи в тестовой и контрольной группе набирались равномерно, в течение всего периода проведения теста. \n",
    "\n",
    "Так как мы исследуем только поведение пользователей в рамках пользования функции surge, то данные о no surge уберем из анализа."
   ]
  },
  {
   "cell_type": "code",
   "execution_count": 18,
   "metadata": {},
   "outputs": [],
   "source": [
    "users = users[users['surge'] == 'surge']"
   ]
  },
  {
   "cell_type": "code",
   "execution_count": 19,
   "metadata": {},
   "outputs": [
    {
     "data": {
      "text/plain": [
       "array(['surge'], dtype=object)"
      ]
     },
     "execution_count": 19,
     "metadata": {},
     "output_type": "execute_result"
    }
   ],
   "source": [
    "users.surge.unique()"
   ]
  },
  {
   "cell_type": "markdown",
   "metadata": {},
   "source": [
    "Выделим в разные датасеты данные тестовой и контрольной группы."
   ]
  },
  {
   "cell_type": "code",
   "execution_count": 20,
   "metadata": {},
   "outputs": [],
   "source": [
    "test = users.query('group == \"Test\"')"
   ]
  },
  {
   "cell_type": "code",
   "execution_count": 21,
   "metadata": {},
   "outputs": [
    {
     "data": {
      "text/html": [
       "<div>\n",
       "<style scoped>\n",
       "    .dataframe tbody tr th:only-of-type {\n",
       "        vertical-align: middle;\n",
       "    }\n",
       "\n",
       "    .dataframe tbody tr th {\n",
       "        vertical-align: top;\n",
       "    }\n",
       "\n",
       "    .dataframe thead th {\n",
       "        text-align: right;\n",
       "    }\n",
       "</style>\n",
       "<table border=\"1\" class=\"dataframe\">\n",
       "  <thead>\n",
       "    <tr style=\"text-align: right;\">\n",
       "      <th></th>\n",
       "      <th>user_id</th>\n",
       "      <th>date</th>\n",
       "      <th>group</th>\n",
       "      <th>surge</th>\n",
       "      <th>price_seen</th>\n",
       "      <th>order_made</th>\n",
       "    </tr>\n",
       "  </thead>\n",
       "  <tbody>\n",
       "    <tr>\n",
       "      <th>0</th>\n",
       "      <td>100093</td>\n",
       "      <td>2020-05-25</td>\n",
       "      <td>Test</td>\n",
       "      <td>surge</td>\n",
       "      <td>1</td>\n",
       "      <td>1</td>\n",
       "    </tr>\n",
       "    <tr>\n",
       "      <th>3</th>\n",
       "      <td>100093</td>\n",
       "      <td>2020-05-30</td>\n",
       "      <td>Test</td>\n",
       "      <td>surge</td>\n",
       "      <td>1</td>\n",
       "      <td>1</td>\n",
       "    </tr>\n",
       "    <tr>\n",
       "      <th>7</th>\n",
       "      <td>100134</td>\n",
       "      <td>2020-05-27</td>\n",
       "      <td>Test</td>\n",
       "      <td>surge</td>\n",
       "      <td>1</td>\n",
       "      <td>1</td>\n",
       "    </tr>\n",
       "    <tr>\n",
       "      <th>17</th>\n",
       "      <td>100255</td>\n",
       "      <td>2020-05-29</td>\n",
       "      <td>Test</td>\n",
       "      <td>surge</td>\n",
       "      <td>1</td>\n",
       "      <td>1</td>\n",
       "    </tr>\n",
       "    <tr>\n",
       "      <th>18</th>\n",
       "      <td>100255</td>\n",
       "      <td>2020-05-30</td>\n",
       "      <td>Test</td>\n",
       "      <td>surge</td>\n",
       "      <td>1</td>\n",
       "      <td>1</td>\n",
       "    </tr>\n",
       "  </tbody>\n",
       "</table>\n",
       "</div>"
      ],
      "text/plain": [
       "    user_id       date group  surge  price_seen  order_made\n",
       "0    100093 2020-05-25  Test  surge           1           1\n",
       "3    100093 2020-05-30  Test  surge           1           1\n",
       "7    100134 2020-05-27  Test  surge           1           1\n",
       "17   100255 2020-05-29  Test  surge           1           1\n",
       "18   100255 2020-05-30  Test  surge           1           1"
      ]
     },
     "execution_count": 21,
     "metadata": {},
     "output_type": "execute_result"
    }
   ],
   "source": [
    "test.head()"
   ]
  },
  {
   "cell_type": "markdown",
   "metadata": {},
   "source": [
    "Рассчитаем конверсию для каждого пользователя"
   ]
  },
  {
   "cell_type": "code",
   "execution_count": 22,
   "metadata": {
    "scrolled": true
   },
   "outputs": [
    {
     "name": "stderr",
     "output_type": "stream",
     "text": [
      "<ipython-input-22-1a048637538e>:1: SettingWithCopyWarning: \n",
      "A value is trying to be set on a copy of a slice from a DataFrame.\n",
      "Try using .loc[row_indexer,col_indexer] = value instead\n",
      "\n",
      "See the caveats in the documentation: https://pandas.pydata.org/pandas-docs/stable/user_guide/indexing.html#returning-a-view-versus-a-copy\n",
      "  test['conv'] = test['order_made'] / test['price_seen'] * 100\n"
     ]
    }
   ],
   "source": [
    "test['conv'] = test['order_made'] / test['price_seen'] * 100"
   ]
  },
  {
   "cell_type": "code",
   "execution_count": 23,
   "metadata": {},
   "outputs": [
    {
     "data": {
      "text/html": [
       "<div>\n",
       "<style scoped>\n",
       "    .dataframe tbody tr th:only-of-type {\n",
       "        vertical-align: middle;\n",
       "    }\n",
       "\n",
       "    .dataframe tbody tr th {\n",
       "        vertical-align: top;\n",
       "    }\n",
       "\n",
       "    .dataframe thead th {\n",
       "        text-align: right;\n",
       "    }\n",
       "</style>\n",
       "<table border=\"1\" class=\"dataframe\">\n",
       "  <thead>\n",
       "    <tr style=\"text-align: right;\">\n",
       "      <th></th>\n",
       "      <th>user_id</th>\n",
       "      <th>date</th>\n",
       "      <th>group</th>\n",
       "      <th>surge</th>\n",
       "      <th>price_seen</th>\n",
       "      <th>order_made</th>\n",
       "      <th>conv</th>\n",
       "    </tr>\n",
       "  </thead>\n",
       "  <tbody>\n",
       "    <tr>\n",
       "      <th>0</th>\n",
       "      <td>100093</td>\n",
       "      <td>2020-05-25</td>\n",
       "      <td>Test</td>\n",
       "      <td>surge</td>\n",
       "      <td>1</td>\n",
       "      <td>1</td>\n",
       "      <td>100.0</td>\n",
       "    </tr>\n",
       "    <tr>\n",
       "      <th>3</th>\n",
       "      <td>100093</td>\n",
       "      <td>2020-05-30</td>\n",
       "      <td>Test</td>\n",
       "      <td>surge</td>\n",
       "      <td>1</td>\n",
       "      <td>1</td>\n",
       "      <td>100.0</td>\n",
       "    </tr>\n",
       "    <tr>\n",
       "      <th>7</th>\n",
       "      <td>100134</td>\n",
       "      <td>2020-05-27</td>\n",
       "      <td>Test</td>\n",
       "      <td>surge</td>\n",
       "      <td>1</td>\n",
       "      <td>1</td>\n",
       "      <td>100.0</td>\n",
       "    </tr>\n",
       "  </tbody>\n",
       "</table>\n",
       "</div>"
      ],
      "text/plain": [
       "   user_id       date group  surge  price_seen  order_made   conv\n",
       "0   100093 2020-05-25  Test  surge           1           1  100.0\n",
       "3   100093 2020-05-30  Test  surge           1           1  100.0\n",
       "7   100134 2020-05-27  Test  surge           1           1  100.0"
      ]
     },
     "execution_count": 23,
     "metadata": {},
     "output_type": "execute_result"
    }
   ],
   "source": [
    "test.head(3)"
   ]
  },
  {
   "cell_type": "markdown",
   "metadata": {},
   "source": [
    "1. График построен по поюзерной метрике конверсии (скорее всего неправильно)."
   ]
  },
  {
   "cell_type": "code",
   "execution_count": 24,
   "metadata": {
    "scrolled": true
   },
   "outputs": [
    {
     "data": {
      "image/png": "[encoded data removed]",
      "text/plain": [
       "<Figure size 432x288 with 1 Axes>"
      ]
     },
     "metadata": {
      "needs_background": "light"
     },
     "output_type": "display_data"
    }
   ],
   "source": [
    "sns.distplot(test['conv']);"
   ]
  },
  {
   "cell_type": "markdown",
   "metadata": {},
   "source": [
    "2. График конверсии построена на агрегированных значениях на этапе группировки данных (на основе расчёта среднего значения поюзерной метрики)."
   ]
  },
  {
   "cell_type": "code",
   "execution_count": 25,
   "metadata": {
    "scrolled": true
   },
   "outputs": [
    {
     "data": {
      "image/png": "[encoded data removed]",
      "text/plain": [
       "<Figure size 432x288 with 1 Axes>"
      ]
     },
     "metadata": {
      "needs_background": "light"
     },
     "output_type": "display_data"
    }
   ],
   "source": [
    "sns.distplot(test.pivot_table(index='date', values='conv', aggfunc='mean'), bins=7);"
   ]
  },
  {
   "cell_type": "markdown",
   "metadata": {},
   "source": [
    "3. График средней конверсии за день, построен на основе агрегированных значений за день."
   ]
  },
  {
   "cell_type": "markdown",
   "metadata": {},
   "source": [
    "Так как изначальные данные у нас биноминальные (заказ сделан - 1 или нет - 0), рассчёт поюзерной метрики не даст нам нужной информации о конверсии в целом. Поэтому будем использовать бутстрап. Из данных возьмем 7 групп наблюдений (7 дней) и по каждой группе посчитаем общую метрику конверсии. \n",
    "\n",
    "В тестовой группе сгруппируем данные по дате и найдем среднее значение конверсии для каждой из дат."
   ]
  },
  {
   "cell_type": "code",
   "execution_count": 26,
   "metadata": {},
   "outputs": [],
   "source": [
    "test_day = test.groupby('date').agg({'user_id':'nunique', 'price_seen':'sum', 'order_made':'sum'}).reset_index()\n",
    "                                "
   ]
  },
  {
   "cell_type": "code",
   "execution_count": 27,
   "metadata": {},
   "outputs": [
    {
     "data": {
      "text/html": [
       "<div>\n",
       "<style scoped>\n",
       "    .dataframe tbody tr th:only-of-type {\n",
       "        vertical-align: middle;\n",
       "    }\n",
       "\n",
       "    .dataframe tbody tr th {\n",
       "        vertical-align: top;\n",
       "    }\n",
       "\n",
       "    .dataframe thead th {\n",
       "        text-align: right;\n",
       "    }\n",
       "</style>\n",
       "<table border=\"1\" class=\"dataframe\">\n",
       "  <thead>\n",
       "    <tr style=\"text-align: right;\">\n",
       "      <th></th>\n",
       "      <th>date</th>\n",
       "      <th>user_id</th>\n",
       "      <th>price_seen</th>\n",
       "      <th>order_made</th>\n",
       "    </tr>\n",
       "  </thead>\n",
       "  <tbody>\n",
       "    <tr>\n",
       "      <th>0</th>\n",
       "      <td>2020-05-25</td>\n",
       "      <td>1916</td>\n",
       "      <td>2066</td>\n",
       "      <td>1309</td>\n",
       "    </tr>\n",
       "    <tr>\n",
       "      <th>1</th>\n",
       "      <td>2020-05-26</td>\n",
       "      <td>1871</td>\n",
       "      <td>2011</td>\n",
       "      <td>1231</td>\n",
       "    </tr>\n",
       "  </tbody>\n",
       "</table>\n",
       "</div>"
      ],
      "text/plain": [
       "        date  user_id  price_seen  order_made\n",
       "0 2020-05-25     1916        2066        1309\n",
       "1 2020-05-26     1871        2011        1231"
      ]
     },
     "execution_count": 27,
     "metadata": {},
     "output_type": "execute_result"
    }
   ],
   "source": [
    "test_day.head(2)"
   ]
  },
  {
   "cell_type": "code",
   "execution_count": 28,
   "metadata": {},
   "outputs": [],
   "source": [
    "test_day['conv'] = test_day['order_made']/test_day['price_seen']*100"
   ]
  },
  {
   "cell_type": "code",
   "execution_count": 29,
   "metadata": {
    "scrolled": false
   },
   "outputs": [
    {
     "data": {
      "text/html": [
       "<div>\n",
       "<style scoped>\n",
       "    .dataframe tbody tr th:only-of-type {\n",
       "        vertical-align: middle;\n",
       "    }\n",
       "\n",
       "    .dataframe tbody tr th {\n",
       "        vertical-align: top;\n",
       "    }\n",
       "\n",
       "    .dataframe thead th {\n",
       "        text-align: right;\n",
       "    }\n",
       "</style>\n",
       "<table border=\"1\" class=\"dataframe\">\n",
       "  <thead>\n",
       "    <tr style=\"text-align: right;\">\n",
       "      <th></th>\n",
       "      <th>date</th>\n",
       "      <th>user_id</th>\n",
       "      <th>price_seen</th>\n",
       "      <th>order_made</th>\n",
       "      <th>conv</th>\n",
       "    </tr>\n",
       "  </thead>\n",
       "  <tbody>\n",
       "    <tr>\n",
       "      <th>0</th>\n",
       "      <td>2020-05-25</td>\n",
       "      <td>1916</td>\n",
       "      <td>2066</td>\n",
       "      <td>1309</td>\n",
       "      <td>63.359148</td>\n",
       "    </tr>\n",
       "    <tr>\n",
       "      <th>1</th>\n",
       "      <td>2020-05-26</td>\n",
       "      <td>1871</td>\n",
       "      <td>2011</td>\n",
       "      <td>1231</td>\n",
       "      <td>61.213327</td>\n",
       "    </tr>\n",
       "    <tr>\n",
       "      <th>2</th>\n",
       "      <td>2020-05-27</td>\n",
       "      <td>1909</td>\n",
       "      <td>2082</td>\n",
       "      <td>1291</td>\n",
       "      <td>62.007685</td>\n",
       "    </tr>\n",
       "    <tr>\n",
       "      <th>3</th>\n",
       "      <td>2020-05-28</td>\n",
       "      <td>1821</td>\n",
       "      <td>1975</td>\n",
       "      <td>1230</td>\n",
       "      <td>62.278481</td>\n",
       "    </tr>\n",
       "    <tr>\n",
       "      <th>4</th>\n",
       "      <td>2020-05-29</td>\n",
       "      <td>1889</td>\n",
       "      <td>2065</td>\n",
       "      <td>1253</td>\n",
       "      <td>60.677966</td>\n",
       "    </tr>\n",
       "  </tbody>\n",
       "</table>\n",
       "</div>"
      ],
      "text/plain": [
       "        date  user_id  price_seen  order_made       conv\n",
       "0 2020-05-25     1916        2066        1309  63.359148\n",
       "1 2020-05-26     1871        2011        1231  61.213327\n",
       "2 2020-05-27     1909        2082        1291  62.007685\n",
       "3 2020-05-28     1821        1975        1230  62.278481\n",
       "4 2020-05-29     1889        2065        1253  60.677966"
      ]
     },
     "execution_count": 29,
     "metadata": {},
     "output_type": "execute_result"
    }
   ],
   "source": [
    "test_day.head()"
   ]
  },
  {
   "cell_type": "code",
   "execution_count": 30,
   "metadata": {},
   "outputs": [],
   "source": [
    "test_day.columns = ['date', 'user_id_test', 'price_seen_test', 'order_made_test', 'conv_test' ]"
   ]
  },
  {
   "cell_type": "code",
   "execution_count": 31,
   "metadata": {},
   "outputs": [
    {
     "data": {
      "text/html": [
       "<div>\n",
       "<style scoped>\n",
       "    .dataframe tbody tr th:only-of-type {\n",
       "        vertical-align: middle;\n",
       "    }\n",
       "\n",
       "    .dataframe tbody tr th {\n",
       "        vertical-align: top;\n",
       "    }\n",
       "\n",
       "    .dataframe thead th {\n",
       "        text-align: right;\n",
       "    }\n",
       "</style>\n",
       "<table border=\"1\" class=\"dataframe\">\n",
       "  <thead>\n",
       "    <tr style=\"text-align: right;\">\n",
       "      <th></th>\n",
       "      <th>date</th>\n",
       "      <th>user_id_test</th>\n",
       "      <th>price_seen_test</th>\n",
       "      <th>order_made_test</th>\n",
       "      <th>conv_test</th>\n",
       "    </tr>\n",
       "  </thead>\n",
       "  <tbody>\n",
       "    <tr>\n",
       "      <th>0</th>\n",
       "      <td>2020-05-25</td>\n",
       "      <td>1916</td>\n",
       "      <td>2066</td>\n",
       "      <td>1309</td>\n",
       "      <td>63.359148</td>\n",
       "    </tr>\n",
       "    <tr>\n",
       "      <th>1</th>\n",
       "      <td>2020-05-26</td>\n",
       "      <td>1871</td>\n",
       "      <td>2011</td>\n",
       "      <td>1231</td>\n",
       "      <td>61.213327</td>\n",
       "    </tr>\n",
       "    <tr>\n",
       "      <th>2</th>\n",
       "      <td>2020-05-27</td>\n",
       "      <td>1909</td>\n",
       "      <td>2082</td>\n",
       "      <td>1291</td>\n",
       "      <td>62.007685</td>\n",
       "    </tr>\n",
       "    <tr>\n",
       "      <th>3</th>\n",
       "      <td>2020-05-28</td>\n",
       "      <td>1821</td>\n",
       "      <td>1975</td>\n",
       "      <td>1230</td>\n",
       "      <td>62.278481</td>\n",
       "    </tr>\n",
       "    <tr>\n",
       "      <th>4</th>\n",
       "      <td>2020-05-29</td>\n",
       "      <td>1889</td>\n",
       "      <td>2065</td>\n",
       "      <td>1253</td>\n",
       "      <td>60.677966</td>\n",
       "    </tr>\n",
       "    <tr>\n",
       "      <th>5</th>\n",
       "      <td>2020-05-30</td>\n",
       "      <td>1868</td>\n",
       "      <td>2069</td>\n",
       "      <td>1309</td>\n",
       "      <td>63.267279</td>\n",
       "    </tr>\n",
       "    <tr>\n",
       "      <th>6</th>\n",
       "      <td>2020-05-31</td>\n",
       "      <td>1932</td>\n",
       "      <td>2101</td>\n",
       "      <td>1259</td>\n",
       "      <td>59.923846</td>\n",
       "    </tr>\n",
       "  </tbody>\n",
       "</table>\n",
       "</div>"
      ],
      "text/plain": [
       "        date  user_id_test  price_seen_test  order_made_test  conv_test\n",
       "0 2020-05-25          1916             2066             1309  63.359148\n",
       "1 2020-05-26          1871             2011             1231  61.213327\n",
       "2 2020-05-27          1909             2082             1291  62.007685\n",
       "3 2020-05-28          1821             1975             1230  62.278481\n",
       "4 2020-05-29          1889             2065             1253  60.677966\n",
       "5 2020-05-30          1868             2069             1309  63.267279\n",
       "6 2020-05-31          1932             2101             1259  59.923846"
      ]
     },
     "execution_count": 31,
     "metadata": {},
     "output_type": "execute_result"
    }
   ],
   "source": [
    "test_day"
   ]
  },
  {
   "cell_type": "code",
   "execution_count": 32,
   "metadata": {},
   "outputs": [],
   "source": [
    "control = users.query('group == \"Control\"')"
   ]
  },
  {
   "cell_type": "markdown",
   "metadata": {},
   "source": [
    "Сделаем то же самое для контрольной группы."
   ]
  },
  {
   "cell_type": "code",
   "execution_count": 33,
   "metadata": {},
   "outputs": [],
   "source": [
    "control_day= control.groupby('date').agg({'user_id':'nunique', 'price_seen':'sum', 'order_made':'sum'}).reset_index()"
   ]
  },
  {
   "cell_type": "code",
   "execution_count": 34,
   "metadata": {},
   "outputs": [],
   "source": [
    "control_day['conv'] = control_day['order_made']/control_day['price_seen']*100"
   ]
  },
  {
   "cell_type": "code",
   "execution_count": 35,
   "metadata": {},
   "outputs": [
    {
     "data": {
      "image/png": "[encoded data removed]",
      "text/plain": [
       "<Figure size 432x288 with 1 Axes>"
      ]
     },
     "metadata": {
      "needs_background": "light"
     },
     "output_type": "display_data"
    }
   ],
   "source": [
    "sns.distplot(control_day['conv'], bins=10);"
   ]
  },
  {
   "cell_type": "code",
   "execution_count": 36,
   "metadata": {},
   "outputs": [
    {
     "data": {
      "text/html": [
       "<div>\n",
       "<style scoped>\n",
       "    .dataframe tbody tr th:only-of-type {\n",
       "        vertical-align: middle;\n",
       "    }\n",
       "\n",
       "    .dataframe tbody tr th {\n",
       "        vertical-align: top;\n",
       "    }\n",
       "\n",
       "    .dataframe thead th {\n",
       "        text-align: right;\n",
       "    }\n",
       "</style>\n",
       "<table border=\"1\" class=\"dataframe\">\n",
       "  <thead>\n",
       "    <tr style=\"text-align: right;\">\n",
       "      <th></th>\n",
       "      <th>date</th>\n",
       "      <th>user_id</th>\n",
       "      <th>price_seen</th>\n",
       "      <th>order_made</th>\n",
       "      <th>conv</th>\n",
       "    </tr>\n",
       "  </thead>\n",
       "  <tbody>\n",
       "    <tr>\n",
       "      <th>0</th>\n",
       "      <td>2020-05-25</td>\n",
       "      <td>1867</td>\n",
       "      <td>2013</td>\n",
       "      <td>1180</td>\n",
       "      <td>58.618977</td>\n",
       "    </tr>\n",
       "    <tr>\n",
       "      <th>1</th>\n",
       "      <td>2020-05-26</td>\n",
       "      <td>1876</td>\n",
       "      <td>2017</td>\n",
       "      <td>1257</td>\n",
       "      <td>62.320278</td>\n",
       "    </tr>\n",
       "    <tr>\n",
       "      <th>2</th>\n",
       "      <td>2020-05-27</td>\n",
       "      <td>1898</td>\n",
       "      <td>2065</td>\n",
       "      <td>1231</td>\n",
       "      <td>59.612591</td>\n",
       "    </tr>\n",
       "    <tr>\n",
       "      <th>3</th>\n",
       "      <td>2020-05-28</td>\n",
       "      <td>1910</td>\n",
       "      <td>2061</td>\n",
       "      <td>1242</td>\n",
       "      <td>60.262009</td>\n",
       "    </tr>\n",
       "    <tr>\n",
       "      <th>4</th>\n",
       "      <td>2020-05-29</td>\n",
       "      <td>1879</td>\n",
       "      <td>2043</td>\n",
       "      <td>1221</td>\n",
       "      <td>59.765051</td>\n",
       "    </tr>\n",
       "    <tr>\n",
       "      <th>5</th>\n",
       "      <td>2020-05-30</td>\n",
       "      <td>1918</td>\n",
       "      <td>2101</td>\n",
       "      <td>1269</td>\n",
       "      <td>60.399810</td>\n",
       "    </tr>\n",
       "    <tr>\n",
       "      <th>6</th>\n",
       "      <td>2020-05-31</td>\n",
       "      <td>1921</td>\n",
       "      <td>2083</td>\n",
       "      <td>1231</td>\n",
       "      <td>59.097456</td>\n",
       "    </tr>\n",
       "  </tbody>\n",
       "</table>\n",
       "</div>"
      ],
      "text/plain": [
       "        date  user_id  price_seen  order_made       conv\n",
       "0 2020-05-25     1867        2013        1180  58.618977\n",
       "1 2020-05-26     1876        2017        1257  62.320278\n",
       "2 2020-05-27     1898        2065        1231  59.612591\n",
       "3 2020-05-28     1910        2061        1242  60.262009\n",
       "4 2020-05-29     1879        2043        1221  59.765051\n",
       "5 2020-05-30     1918        2101        1269  60.399810\n",
       "6 2020-05-31     1921        2083        1231  59.097456"
      ]
     },
     "execution_count": 36,
     "metadata": {},
     "output_type": "execute_result"
    }
   ],
   "source": [
    "control_day"
   ]
  },
  {
   "cell_type": "code",
   "execution_count": 37,
   "metadata": {},
   "outputs": [],
   "source": [
    "control_day.columns = ['date', 'user_id_cont', 'price_seen_cont', 'order_made_cont', 'conv_cont' ]"
   ]
  },
  {
   "cell_type": "code",
   "execution_count": 38,
   "metadata": {},
   "outputs": [
    {
     "name": "stdout",
     "output_type": "stream",
     "text": [
      "<class 'pandas.core.frame.DataFrame'>\n",
      "RangeIndex: 7 entries, 0 to 6\n",
      "Data columns (total 5 columns):\n",
      " #   Column           Non-Null Count  Dtype         \n",
      "---  ------           --------------  -----         \n",
      " 0   date             7 non-null      datetime64[ns]\n",
      " 1   user_id_test     7 non-null      int64         \n",
      " 2   price_seen_test  7 non-null      int64         \n",
      " 3   order_made_test  7 non-null      int64         \n",
      " 4   conv_test        7 non-null      float64       \n",
      "dtypes: datetime64[ns](1), float64(1), int64(3)\n",
      "memory usage: 408.0 bytes\n"
     ]
    }
   ],
   "source": [
    "test_day.info()"
   ]
  },
  {
   "cell_type": "markdown",
   "metadata": {},
   "source": [
    "На первый взгляд уровень конверсии в контрольной группе немного ниже, чем в тестовой. Проверим значима ли статистически эта разница.\n",
    "\n",
    "Для начала построим гистограммы распределения конверсий в тестовой и контрольной группе. Если распределение нормальное, то сравнивать t-тестом, если нет, то тестом Манна Уитни (по заданию надо получить значения p-value, чтобы построить графики накопленных значений) и также посмотрим на доверительные интервалы."
   ]
  },
  {
   "cell_type": "markdown",
   "metadata": {},
   "source": [
    "Проверим гипотезу о равенстве долей в каждый из дней проведения тестирования в тестовой и контрольной группе."
   ]
  },
  {
   "cell_type": "code",
   "execution_count": 39,
   "metadata": {},
   "outputs": [],
   "source": [
    "successes = [test_day['order_made_test'].sum(), control_day['order_made_cont'].sum()]\n",
    "trial = [test_day['price_seen_test'].sum(), control_day['price_seen_cont'].sum()]"
   ]
  },
  {
   "cell_type": "code",
   "execution_count": 40,
   "metadata": {},
   "outputs": [],
   "source": [
    "def p_value_full(successes, trial):\n",
    "    \n",
    "    alpha = .05\n",
    "\n",
    "# пропорции успехов в тестовой и контрольной группах\n",
    "    p1 = successes[0]/trial[0]\n",
    "    p2 = successes[1]/trial[1]\n",
    "\n",
    "#пропорция успехов в комбинированном датасете:\n",
    "    p_combined = (successes[0] + successes[1])/(trial[0]+trial[1])\n",
    "\n",
    "#разница пропорций в датасетах\n",
    "    difference = p1-p2\n",
    "\n",
    "#считаем статистику в стд. отклонениях нормального распределения\n",
    "    z=difference/mth.sqrt(p_combined*(1-p_combined)*(1/trial[0]+1/trial[1]))\n",
    "\n",
    "#задаем стандартное нормальное распределение, где ср.знач = 0, станд.отклонение = 1 (distr = st.norm(mu, sigma))\n",
    "    distr = stats.norm(0,1)\n",
    "\n",
    "#рассчитываем p-value, так как мы проверяем одностороннюю гипотезу (увеличение конверсии в тестируемой группе),\\\n",
    "# то значение p-value умножать на 2 не будем. distr - задан выше как нормальное, cdf - значение функции распределения\n",
    "# в заданной точке z. Так как у нас одностороняя гипотеза, можно было не указывать, что z-статистика берется по модулю.\n",
    "    p_value = (1 - distr.cdf(abs(z)))\n",
    "    \n",
    "    print(p_value)\n",
    "    \n",
    "    if p_value < alpha:\n",
    "        print('Отвергаем нулевую гипотезу: между долями есть значимая разница')\n",
    "    else:\n",
    "        print('Не получилось отвергнуть нулевую гипотезу, нет оснований считать доли разными') "
   ]
  },
  {
   "cell_type": "code",
   "execution_count": 41,
   "metadata": {
    "scrolled": false
   },
   "outputs": [
    {
     "name": "stdout",
     "output_type": "stream",
     "text": [
      "0.0008542973115306385\n",
      "Отвергаем нулевую гипотезу: между долями есть значимая разница\n"
     ]
    }
   ],
   "source": [
    "p_value_full(successes, trial)"
   ]
  },
  {
   "cell_type": "code",
   "execution_count": 42,
   "metadata": {},
   "outputs": [],
   "source": [
    "full = test_day.merge(control_day, on='date')"
   ]
  },
  {
   "cell_type": "code",
   "execution_count": 43,
   "metadata": {
    "scrolled": true
   },
   "outputs": [
    {
     "data": {
      "text/html": [
       "<div>\n",
       "<style scoped>\n",
       "    .dataframe tbody tr th:only-of-type {\n",
       "        vertical-align: middle;\n",
       "    }\n",
       "\n",
       "    .dataframe tbody tr th {\n",
       "        vertical-align: top;\n",
       "    }\n",
       "\n",
       "    .dataframe thead th {\n",
       "        text-align: right;\n",
       "    }\n",
       "</style>\n",
       "<table border=\"1\" class=\"dataframe\">\n",
       "  <thead>\n",
       "    <tr style=\"text-align: right;\">\n",
       "      <th></th>\n",
       "      <th>date</th>\n",
       "      <th>user_id_test</th>\n",
       "      <th>price_seen_test</th>\n",
       "      <th>order_made_test</th>\n",
       "      <th>conv_test</th>\n",
       "      <th>user_id_cont</th>\n",
       "      <th>price_seen_cont</th>\n",
       "      <th>order_made_cont</th>\n",
       "      <th>conv_cont</th>\n",
       "    </tr>\n",
       "  </thead>\n",
       "  <tbody>\n",
       "    <tr>\n",
       "      <th>0</th>\n",
       "      <td>2020-05-25</td>\n",
       "      <td>1916</td>\n",
       "      <td>2066</td>\n",
       "      <td>1309</td>\n",
       "      <td>63.359148</td>\n",
       "      <td>1867</td>\n",
       "      <td>2013</td>\n",
       "      <td>1180</td>\n",
       "      <td>58.618977</td>\n",
       "    </tr>\n",
       "    <tr>\n",
       "      <th>1</th>\n",
       "      <td>2020-05-26</td>\n",
       "      <td>1871</td>\n",
       "      <td>2011</td>\n",
       "      <td>1231</td>\n",
       "      <td>61.213327</td>\n",
       "      <td>1876</td>\n",
       "      <td>2017</td>\n",
       "      <td>1257</td>\n",
       "      <td>62.320278</td>\n",
       "    </tr>\n",
       "    <tr>\n",
       "      <th>2</th>\n",
       "      <td>2020-05-27</td>\n",
       "      <td>1909</td>\n",
       "      <td>2082</td>\n",
       "      <td>1291</td>\n",
       "      <td>62.007685</td>\n",
       "      <td>1898</td>\n",
       "      <td>2065</td>\n",
       "      <td>1231</td>\n",
       "      <td>59.612591</td>\n",
       "    </tr>\n",
       "    <tr>\n",
       "      <th>3</th>\n",
       "      <td>2020-05-28</td>\n",
       "      <td>1821</td>\n",
       "      <td>1975</td>\n",
       "      <td>1230</td>\n",
       "      <td>62.278481</td>\n",
       "      <td>1910</td>\n",
       "      <td>2061</td>\n",
       "      <td>1242</td>\n",
       "      <td>60.262009</td>\n",
       "    </tr>\n",
       "    <tr>\n",
       "      <th>4</th>\n",
       "      <td>2020-05-29</td>\n",
       "      <td>1889</td>\n",
       "      <td>2065</td>\n",
       "      <td>1253</td>\n",
       "      <td>60.677966</td>\n",
       "      <td>1879</td>\n",
       "      <td>2043</td>\n",
       "      <td>1221</td>\n",
       "      <td>59.765051</td>\n",
       "    </tr>\n",
       "    <tr>\n",
       "      <th>5</th>\n",
       "      <td>2020-05-30</td>\n",
       "      <td>1868</td>\n",
       "      <td>2069</td>\n",
       "      <td>1309</td>\n",
       "      <td>63.267279</td>\n",
       "      <td>1918</td>\n",
       "      <td>2101</td>\n",
       "      <td>1269</td>\n",
       "      <td>60.399810</td>\n",
       "    </tr>\n",
       "    <tr>\n",
       "      <th>6</th>\n",
       "      <td>2020-05-31</td>\n",
       "      <td>1932</td>\n",
       "      <td>2101</td>\n",
       "      <td>1259</td>\n",
       "      <td>59.923846</td>\n",
       "      <td>1921</td>\n",
       "      <td>2083</td>\n",
       "      <td>1231</td>\n",
       "      <td>59.097456</td>\n",
       "    </tr>\n",
       "  </tbody>\n",
       "</table>\n",
       "</div>"
      ],
      "text/plain": [
       "        date  user_id_test  price_seen_test  order_made_test  conv_test  \\\n",
       "0 2020-05-25          1916             2066             1309  63.359148   \n",
       "1 2020-05-26          1871             2011             1231  61.213327   \n",
       "2 2020-05-27          1909             2082             1291  62.007685   \n",
       "3 2020-05-28          1821             1975             1230  62.278481   \n",
       "4 2020-05-29          1889             2065             1253  60.677966   \n",
       "5 2020-05-30          1868             2069             1309  63.267279   \n",
       "6 2020-05-31          1932             2101             1259  59.923846   \n",
       "\n",
       "   user_id_cont  price_seen_cont  order_made_cont  conv_cont  \n",
       "0          1867             2013             1180  58.618977  \n",
       "1          1876             2017             1257  62.320278  \n",
       "2          1898             2065             1231  59.612591  \n",
       "3          1910             2061             1242  60.262009  \n",
       "4          1879             2043             1221  59.765051  \n",
       "5          1918             2101             1269  60.399810  \n",
       "6          1921             2083             1231  59.097456  "
      ]
     },
     "execution_count": 43,
     "metadata": {},
     "output_type": "execute_result"
    }
   ],
   "source": [
    "full"
   ]
  },
  {
   "cell_type": "code",
   "execution_count": 44,
   "metadata": {},
   "outputs": [],
   "source": [
    "full['diff_conv'] = full['conv_test'] - full['conv_cont']"
   ]
  },
  {
   "cell_type": "code",
   "execution_count": 45,
   "metadata": {},
   "outputs": [
    {
     "data": {
      "text/html": [
       "<div>\n",
       "<style scoped>\n",
       "    .dataframe tbody tr th:only-of-type {\n",
       "        vertical-align: middle;\n",
       "    }\n",
       "\n",
       "    .dataframe tbody tr th {\n",
       "        vertical-align: top;\n",
       "    }\n",
       "\n",
       "    .dataframe thead th {\n",
       "        text-align: right;\n",
       "    }\n",
       "</style>\n",
       "<table border=\"1\" class=\"dataframe\">\n",
       "  <thead>\n",
       "    <tr style=\"text-align: right;\">\n",
       "      <th></th>\n",
       "      <th>date</th>\n",
       "      <th>user_id_test</th>\n",
       "      <th>price_seen_test</th>\n",
       "      <th>order_made_test</th>\n",
       "      <th>conv_test</th>\n",
       "      <th>user_id_cont</th>\n",
       "      <th>price_seen_cont</th>\n",
       "      <th>order_made_cont</th>\n",
       "      <th>conv_cont</th>\n",
       "      <th>diff_conv</th>\n",
       "    </tr>\n",
       "  </thead>\n",
       "  <tbody>\n",
       "    <tr>\n",
       "      <th>0</th>\n",
       "      <td>2020-05-25</td>\n",
       "      <td>1916</td>\n",
       "      <td>2066</td>\n",
       "      <td>1309</td>\n",
       "      <td>63.359148</td>\n",
       "      <td>1867</td>\n",
       "      <td>2013</td>\n",
       "      <td>1180</td>\n",
       "      <td>58.618977</td>\n",
       "      <td>4.740171</td>\n",
       "    </tr>\n",
       "    <tr>\n",
       "      <th>1</th>\n",
       "      <td>2020-05-26</td>\n",
       "      <td>1871</td>\n",
       "      <td>2011</td>\n",
       "      <td>1231</td>\n",
       "      <td>61.213327</td>\n",
       "      <td>1876</td>\n",
       "      <td>2017</td>\n",
       "      <td>1257</td>\n",
       "      <td>62.320278</td>\n",
       "      <td>-1.106951</td>\n",
       "    </tr>\n",
       "    <tr>\n",
       "      <th>2</th>\n",
       "      <td>2020-05-27</td>\n",
       "      <td>1909</td>\n",
       "      <td>2082</td>\n",
       "      <td>1291</td>\n",
       "      <td>62.007685</td>\n",
       "      <td>1898</td>\n",
       "      <td>2065</td>\n",
       "      <td>1231</td>\n",
       "      <td>59.612591</td>\n",
       "      <td>2.395094</td>\n",
       "    </tr>\n",
       "    <tr>\n",
       "      <th>3</th>\n",
       "      <td>2020-05-28</td>\n",
       "      <td>1821</td>\n",
       "      <td>1975</td>\n",
       "      <td>1230</td>\n",
       "      <td>62.278481</td>\n",
       "      <td>1910</td>\n",
       "      <td>2061</td>\n",
       "      <td>1242</td>\n",
       "      <td>60.262009</td>\n",
       "      <td>2.016472</td>\n",
       "    </tr>\n",
       "    <tr>\n",
       "      <th>4</th>\n",
       "      <td>2020-05-29</td>\n",
       "      <td>1889</td>\n",
       "      <td>2065</td>\n",
       "      <td>1253</td>\n",
       "      <td>60.677966</td>\n",
       "      <td>1879</td>\n",
       "      <td>2043</td>\n",
       "      <td>1221</td>\n",
       "      <td>59.765051</td>\n",
       "      <td>0.912915</td>\n",
       "    </tr>\n",
       "    <tr>\n",
       "      <th>5</th>\n",
       "      <td>2020-05-30</td>\n",
       "      <td>1868</td>\n",
       "      <td>2069</td>\n",
       "      <td>1309</td>\n",
       "      <td>63.267279</td>\n",
       "      <td>1918</td>\n",
       "      <td>2101</td>\n",
       "      <td>1269</td>\n",
       "      <td>60.399810</td>\n",
       "      <td>2.867469</td>\n",
       "    </tr>\n",
       "    <tr>\n",
       "      <th>6</th>\n",
       "      <td>2020-05-31</td>\n",
       "      <td>1932</td>\n",
       "      <td>2101</td>\n",
       "      <td>1259</td>\n",
       "      <td>59.923846</td>\n",
       "      <td>1921</td>\n",
       "      <td>2083</td>\n",
       "      <td>1231</td>\n",
       "      <td>59.097456</td>\n",
       "      <td>0.826390</td>\n",
       "    </tr>\n",
       "  </tbody>\n",
       "</table>\n",
       "</div>"
      ],
      "text/plain": [
       "        date  user_id_test  price_seen_test  order_made_test  conv_test  \\\n",
       "0 2020-05-25          1916             2066             1309  63.359148   \n",
       "1 2020-05-26          1871             2011             1231  61.213327   \n",
       "2 2020-05-27          1909             2082             1291  62.007685   \n",
       "3 2020-05-28          1821             1975             1230  62.278481   \n",
       "4 2020-05-29          1889             2065             1253  60.677966   \n",
       "5 2020-05-30          1868             2069             1309  63.267279   \n",
       "6 2020-05-31          1932             2101             1259  59.923846   \n",
       "\n",
       "   user_id_cont  price_seen_cont  order_made_cont  conv_cont  diff_conv  \n",
       "0          1867             2013             1180  58.618977   4.740171  \n",
       "1          1876             2017             1257  62.320278  -1.106951  \n",
       "2          1898             2065             1231  59.612591   2.395094  \n",
       "3          1910             2061             1242  60.262009   2.016472  \n",
       "4          1879             2043             1221  59.765051   0.912915  \n",
       "5          1918             2101             1269  60.399810   2.867469  \n",
       "6          1921             2083             1231  59.097456   0.826390  "
      ]
     },
     "execution_count": 45,
     "metadata": {},
     "output_type": "execute_result"
    }
   ],
   "source": [
    "full"
   ]
  },
  {
   "cell_type": "code",
   "execution_count": 46,
   "metadata": {},
   "outputs": [],
   "source": [
    "def p_values_by_day(successes, trial):\n",
    "    \n",
    "    alpha = .05\n",
    "    p1 = successes[0]/trial[0]\n",
    "    p2 = successes[1]/trial[1]\n",
    "    p_combined = (successes[0] + successes[1])/(trial[0]+trial[1])\n",
    "    difference = p1-p2\n",
    "    z=difference/mth.sqrt(p_combined*(1-p_combined)*(1/trial[0]+1/trial[1]))\n",
    "    distr = stats.norm(0,1)\n",
    "    p_value = (1 - distr.cdf(abs(z)))\n",
    "    print(p_value)"
   ]
  },
  {
   "cell_type": "code",
   "execution_count": 47,
   "metadata": {},
   "outputs": [
    {
     "name": "stdout",
     "output_type": "stream",
     "text": [
      "0.0009563422640455066\n"
     ]
    },
    {
     "ename": "AttributeError",
     "evalue": "'NoneType' object has no attribute 'append'",
     "output_type": "error",
     "traceback": [
      "\u001b[1;31m---------------------------------------------------------------------------\u001b[0m",
      "\u001b[1;31mAttributeError\u001b[0m                            Traceback (most recent call last)",
      "\u001b[1;32m<ipython-input-47-bd04a4f499ec>\u001b[0m in \u001b[0;36m<module>\u001b[1;34m\u001b[0m\n\u001b[0;32m      5\u001b[0m     \u001b[0msuccesses\u001b[0m \u001b[1;33m=\u001b[0m \u001b[1;33m[\u001b[0m\u001b[0mfull\u001b[0m\u001b[1;33m.\u001b[0m\u001b[0miloc\u001b[0m\u001b[1;33m[\u001b[0m\u001b[0mi\u001b[0m\u001b[1;33m]\u001b[0m\u001b[1;33m[\u001b[0m\u001b[1;34m'order_made_test'\u001b[0m\u001b[1;33m]\u001b[0m\u001b[1;33m,\u001b[0m \u001b[0mfull\u001b[0m\u001b[1;33m.\u001b[0m\u001b[0miloc\u001b[0m\u001b[1;33m[\u001b[0m\u001b[0mi\u001b[0m\u001b[1;33m]\u001b[0m\u001b[1;33m[\u001b[0m\u001b[1;34m'order_made_cont'\u001b[0m\u001b[1;33m]\u001b[0m\u001b[1;33m]\u001b[0m\u001b[1;33m\u001b[0m\u001b[1;33m\u001b[0m\u001b[0m\n\u001b[0;32m      6\u001b[0m     \u001b[0mtrials\u001b[0m \u001b[1;33m=\u001b[0m \u001b[1;33m[\u001b[0m\u001b[0mfull\u001b[0m\u001b[1;33m.\u001b[0m\u001b[0miloc\u001b[0m\u001b[1;33m[\u001b[0m\u001b[0mi\u001b[0m\u001b[1;33m]\u001b[0m\u001b[1;33m[\u001b[0m\u001b[1;34m'price_seen_test'\u001b[0m\u001b[1;33m]\u001b[0m\u001b[1;33m,\u001b[0m \u001b[0mfull\u001b[0m\u001b[1;33m.\u001b[0m\u001b[0miloc\u001b[0m\u001b[1;33m[\u001b[0m\u001b[0mi\u001b[0m\u001b[1;33m]\u001b[0m\u001b[1;33m[\u001b[0m\u001b[1;34m'price_seen_cont'\u001b[0m\u001b[1;33m]\u001b[0m\u001b[1;33m]\u001b[0m\u001b[1;33m\u001b[0m\u001b[1;33m\u001b[0m\u001b[0m\n\u001b[1;32m----> 7\u001b[1;33m     \u001b[0mnew\u001b[0m \u001b[1;33m=\u001b[0m \u001b[0mnew\u001b[0m\u001b[1;33m.\u001b[0m\u001b[0mappend\u001b[0m\u001b[1;33m(\u001b[0m\u001b[0mp_values_by_day\u001b[0m\u001b[1;33m(\u001b[0m\u001b[0msuccesses\u001b[0m\u001b[1;33m,\u001b[0m \u001b[0mtrials\u001b[0m\u001b[1;33m)\u001b[0m\u001b[1;33m)\u001b[0m\u001b[1;33m\u001b[0m\u001b[1;33m\u001b[0m\u001b[0m\n\u001b[0m",
      "\u001b[1;31mAttributeError\u001b[0m: 'NoneType' object has no attribute 'append'"
     ]
    }
   ],
   "source": [
    "#данные передаем названием построчных индексов\n",
    "dates = [0, 1, 2, 3, 4, 5, 6]\n",
    "new = []\n",
    "for i in dates:    \n",
    "    successes = [full.iloc[i]['order_made_test'], full.iloc[i]['order_made_cont']]\n",
    "    trials = [full.iloc[i]['price_seen_test'], full.iloc[i]['price_seen_cont']]\n",
    "    new = new.append(p_values_by_day(successes, trials))"
   ]
  },
  {
   "cell_type": "code",
   "execution_count": null,
   "metadata": {},
   "outputs": [],
   "source": [
    "new"
   ]
  },
  {
   "cell_type": "code",
   "execution_count": null,
   "metadata": {},
   "outputs": [],
   "source": [
    "p_values_by_day(successes, trials)"
   ]
  },
  {
   "cell_type": "code",
   "execution_count": null,
   "metadata": {},
   "outputs": [],
   "source": [
    "p_values_by_day(successes, trial)"
   ]
  },
  {
   "cell_type": "code",
   "execution_count": null,
   "metadata": {},
   "outputs": [],
   "source": [
    "\n",
    "\n",
    "for data in lists(days, trials):\n",
    "    \n",
    "    table = table.append(p_values_by_day(successes, trial))"
   ]
  },
  {
   "cell_type": "code",
   "execution_count": null,
   "metadata": {},
   "outputs": [],
   "source": [
    "p_value_aggregeted = dates.apply(lambda x: p_values[(p_values['date'] <= x['date'])].\\\n",
    "                                        agg({'date': 'max', 'p_value': 'sum'}), axis=1).sort_values(by='date')"
   ]
  },
  {
   "cell_type": "code",
   "execution_count": null,
   "metadata": {},
   "outputs": [],
   "source": [
    "def z_test_function_boferroni(successes, trials):\n",
    "    alpha = .05 / 4\n",
    "    p1 = successes[0]/trials[0]\n",
    "    p2 = successes[1]/trials[1]\n",
    "    p_combined = (successes[0] + successes[1]) / (trials[0] + trials[1])\n",
    "    difference = p1 - p2\n",
    "    z_value = difference / mth.sqrt(p_combined * (1 - p_combined) * (1/trials[0] + 1/trials[1]))\n",
    "    distr = st.norm(0, 1) \n",
    "    p_value = (1 - distr.cdf(abs(z_value))) * 2\n",
    "    \n",
    "    print('p-значение: ', p_value)\n",
    "    if (p_value < alpha):\n",
    "        print(\"Отвергаем нулевую гипотезу: между долями есть значимая разница\")\n",
    "    else:\n",
    "        print(\"Не получилось отвергнуть нулевую гипотезу, нет оснований считать доли разными\") \n",
    "        \n",
    "    return  "
   ]
  },
  {
   "cell_type": "code",
   "execution_count": null,
   "metadata": {},
   "outputs": [],
   "source": []
  },
  {
   "cell_type": "markdown",
   "metadata": {},
   "source": [
    "Выделим даты проведения теста, чтобы потом рассчитать куммулятивный p-value."
   ]
  },
  {
   "cell_type": "code",
   "execution_count": null,
   "metadata": {},
   "outputs": [],
   "source": [
    "dates= df['date'].drop_duplicates().reset_index()"
   ]
  },
  {
   "cell_type": "code",
   "execution_count": null,
   "metadata": {},
   "outputs": [],
   "source": [
    "dates"
   ]
  },
  {
   "cell_type": "markdown",
   "metadata": {},
   "source": [
    "Игровой датасет для отладки дальшейшего."
   ]
  },
  {
   "cell_type": "code",
   "execution_count": null,
   "metadata": {},
   "outputs": [],
   "source": [
    "p_values = pd.DataFrame([['2020-05-25', 'Test', '0.1566'], [ '2020-05-25', 'Control', '0.1265'], \\\n",
    "                         ['2020-05-26', 'Test', '0.03655'], ['2020-05-26', 'Control', '0.26455'], \\\n",
    "                         ['2020-05-27', 'Test', '0.153'], ['2020-05-27','Control', '0.5130'], \\\n",
    "                         ['2020-05-28','Test','0.7896'], ['2020-05-28', 'Control','0.75306'], \\\n",
    "                         ['2020-05-29', 'Test','0.045698'], ['2020-05-29', 'Control', '0.05698'], \\\n",
    "                         ['2020-05-30','Test','0.034563'], ['2020-05-30', 'Control', '0.2652'], \\\n",
    "                         ['2020-05-31', 'Test', '0.2892'], ['2020-05-31','Control', '0.54893']])\n",
    "p_values"
   ]
  },
  {
   "cell_type": "code",
   "execution_count": null,
   "metadata": {},
   "outputs": [],
   "source": [
    "p_values.columns = ['date', 'group', 'p_value']"
   ]
  },
  {
   "cell_type": "code",
   "execution_count": null,
   "metadata": {},
   "outputs": [],
   "source": [
    "p_values"
   ]
  },
  {
   "cell_type": "code",
   "execution_count": null,
   "metadata": {},
   "outputs": [],
   "source": [
    "p_values['date'] = pd.to_datetime(p_values['date'])"
   ]
  },
  {
   "cell_type": "code",
   "execution_count": null,
   "metadata": {},
   "outputs": [],
   "source": [
    "p_values['p_value'] = p_values['p_value'].astype(float)"
   ]
  },
  {
   "cell_type": "code",
   "execution_count": null,
   "metadata": {},
   "outputs": [],
   "source": [
    "p_value_aggregeted = dates.apply(lambda x: p_values[(p_values['date'] <= x['date'])].\\\n",
    "                                        agg({'date': 'max', 'p_value': 'sum'}), axis=1).sort_values(by='date')"
   ]
  },
  {
   "cell_type": "code",
   "execution_count": null,
   "metadata": {},
   "outputs": [],
   "source": [
    "p_value_aggregeted"
   ]
  },
  {
   "cell_type": "code",
   "execution_count": null,
   "metadata": {},
   "outputs": [],
   "source": [
    "p_value_aggregeted.plot(y='p_value', x='date', grid=True)\n",
    "plt.title('График кумулятивной p-value')\n",
    "plt.xlabel('дата')\n",
    "plt.ylabel('p_value');"
   ]
  },
  {
   "cell_type": "code",
   "execution_count": null,
   "metadata": {},
   "outputs": [],
   "source": [
    "p_value_aggregeted.plot(y='p_value', x='date', grid=True)\n",
    "plt.title('График кумулятивной p-value')\n",
    "plt.xlabel('дата')\n",
    "plt.ylabel('p_value');"
   ]
  }
 ],
 "metadata": {
  "kernelspec": {
   "display_name": "Python 3",
   "language": "python",
   "name": "python3"
  },
  "language_info": {
   "codemirror_mode": {
    "name": "ipython",
    "version": 3
   },
   "file_extension": ".py",
   "mimetype": "text/x-python",
   "name": "python",
   "nbconvert_exporter": "python",
   "pygments_lexer": "ipython3",
   "version": "3.8.8"
  }
 },
 "nbformat": 4,
 "nbformat_minor": 4
}
