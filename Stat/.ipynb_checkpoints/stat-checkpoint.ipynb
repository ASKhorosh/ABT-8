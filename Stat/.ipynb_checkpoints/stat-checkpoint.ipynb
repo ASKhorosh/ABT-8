{
 "cells": [
  {
   "cell_type": "code",
   "execution_count": 2,
   "id": "73535d55",
   "metadata": {},
   "outputs": [],
   "source": [
    "import pandas as pd\n",
    "import numpy as np"
   ]
  },
  {
   "cell_type": "code",
   "execution_count": 3,
   "id": "f406b624",
   "metadata": {},
   "outputs": [
    {
     "data": {
      "text/plain": [
       "<bound method NDFrame.head of         Unnamed: 0        date  user_id  hour  app_opened  price_seen  \\\n",
       "0                0  2020-05-21   867689    12           1           1   \n",
       "1                1  2020-05-23   752172     5           1           1   \n",
       "2                2  2020-05-20   486559    15           1           1   \n",
       "3                3  2020-05-19   304024     0           1           1   \n",
       "4                4  2020-05-23   139420     0           1           1   \n",
       "...            ...         ...      ...   ...         ...         ...   \n",
       "101495      101495  2020-05-24   288445    16           1           1   \n",
       "101496      101496  2020-05-19   627754     2           1           1   \n",
       "101497      101497  2020-05-23   784442     1           1           1   \n",
       "101498      101498  2020-05-20   232993    13           1           1   \n",
       "101499      101499  2020-05-22   337225    21           1           1   \n",
       "\n",
       "        order_made     surge  ride_completed  user_cancelled  age       os  \\\n",
       "0                1  no surge               1               0   20      iOS   \n",
       "1                1  no surge               1               0   37  Android   \n",
       "2                1  no surge               1               0   47  Android   \n",
       "3                1  no surge               1               0   59  Android   \n",
       "4                1  no surge               1               0   19  Android   \n",
       "...            ...       ...             ...             ...  ...      ...   \n",
       "101495           1  no surge               1               0   29  Android   \n",
       "101496           1     surge               1               0   23      iOS   \n",
       "101497           1  no surge               1               0   40      iOS   \n",
       "101498           1  no surge               1               0   52      iOS   \n",
       "101499           1     surge               1               0   18  Android   \n",
       "\n",
       "        city_center_order order_class   distance     rfm  \n",
       "0                       0    business   7.982135     low  \n",
       "1                       1     economy   2.908468    high  \n",
       "2                       0     comfort   7.224614     low  \n",
       "3                       1     economy   1.874349     low  \n",
       "4                       0    business  10.704778  medium  \n",
       "...                   ...         ...        ...     ...  \n",
       "101495                  0     comfort   1.725907    high  \n",
       "101496                  1     comfort   6.206134  medium  \n",
       "101497                  0     economy   6.624225  medium  \n",
       "101498                  0    business   8.825188     low  \n",
       "101499                  0     economy   0.882172  medium  \n",
       "\n",
       "[101500 rows x 16 columns]>"
      ]
     },
     "execution_count": 3,
     "metadata": {},
     "output_type": "execute_result"
    }
   ],
   "source": [
    "ab = pd.read_csv('Netology_A_B-testing_HW_1.csv',na_values='?')\n",
    "ab.head"
   ]
  },
  {
   "cell_type": "code",
   "execution_count": 15,
   "id": "2269894e",
   "metadata": {},
   "outputs": [
    {
     "name": "stdout",
     "output_type": "stream",
     "text": [
      "Среднее:  11.481428571428571\n",
      "Медиана:  11.0\n",
      "95-персентиль:  22.0\n"
     ]
    }
   ],
   "source": [
    "#час старта сессии hour\n",
    "print('Среднее: ', ab.hour.mean())\n",
    "print('Медиана: ',ab.hour.median())\n",
    "print('95-персентиль: ',np.percentile(ab.hour, 95))"
   ]
  },
  {
   "cell_type": "code",
   "execution_count": 16,
   "id": "9fa76d81",
   "metadata": {},
   "outputs": [],
   "source": [
    "import matplotlib.pyplot as plt"
   ]
  },
  {
   "cell_type": "code",
   "execution_count": 26,
   "id": "42e27c3d",
   "metadata": {},
   "outputs": [
    {
     "data": {
      "text/plain": [
       "<AxesSubplot:title={'center':'Частотность'}, ylabel='Frequency'>"
      ]
     },
     "execution_count": 26,
     "metadata": {},
     "output_type": "execute_result"
    },
    {
     "data": {
      "image/png": "[encoded data removed]",
      "text/plain": [
       "<Figure size 432x288 with 1 Axes>"
      ]
     },
     "metadata": {
      "needs_background": "light"
     },
     "output_type": "display_data"
    }
   ],
   "source": [
    "#частотность\n",
    "ab.hour.plot(kind='hist',\n",
    "                   title='Частотность', bins=24)"
   ]
  },
  {
   "cell_type": "code",
   "execution_count": 34,
   "id": "9881c97e",
   "metadata": {},
   "outputs": [
    {
     "data": {
      "text/plain": [
       "<AxesSubplot:title={'center':'Распределение времени заказа'}>"
      ]
     },
     "execution_count": 34,
     "metadata": {},
     "output_type": "execute_result"
    },
    {
     "data": {
      "image/png": "[encoded data removed]",
      "text/plain": [
       "<Figure size 432x288 with 1 Axes>"
      ]
     },
     "metadata": {
      "needs_background": "light"
     },
     "output_type": "display_data"
    }
   ],
   "source": [
    "#boxplot\n",
    "ab.hour.plot(kind='box',\n",
    "                   title='Распределение времени заказа', grid=True)"
   ]
  },
  {
   "cell_type": "code",
   "execution_count": 11,
   "id": "2624976c",
   "metadata": {},
   "outputs": [
    {
     "name": "stdout",
     "output_type": "stream",
     "text": [
      "Среднее:  40.47176354679803\n",
      "Медиана:  40.0\n",
      "95-персентиль:  63.0\n"
     ]
    }
   ],
   "source": [
    "#возраст age\n",
    "print('Среднее: ', ab.age.mean())\n",
    "print('Медиана: ',ab.age.median())\n",
    "print('95-персентиль: ',np.percentile(ab.age, 95))"
   ]
  },
  {
   "cell_type": "code",
   "execution_count": 33,
   "id": "bef4ecfa",
   "metadata": {},
   "outputs": [
    {
     "data": {
      "text/plain": [
       "<AxesSubplot:title={'center':'Частотность'}, ylabel='Frequency'>"
      ]
     },
     "execution_count": 33,
     "metadata": {},
     "output_type": "execute_result"
    },
    {
     "data": {
      "image/png": "[encoded data removed]",
      "text/plain": [
       "<Figure size 432x288 with 1 Axes>"
      ]
     },
     "metadata": {
      "needs_background": "light"
     },
     "output_type": "display_data"
    }
   ],
   "source": [
    "#частотность\n",
    "ab.age.plot(kind='hist',\n",
    "                   title='Частотность', bins=80)"
   ]
  },
  {
   "cell_type": "code",
   "execution_count": 35,
   "id": "67d830af",
   "metadata": {},
   "outputs": [
    {
     "data": {
      "text/plain": [
       "<AxesSubplot:title={'center':'Распределение возрастов'}>"
      ]
     },
     "execution_count": 35,
     "metadata": {},
     "output_type": "execute_result"
    },
    {
     "data": {
      "image/png": "[encoded data removed]",
      "text/plain": [
       "<Figure size 432x288 with 1 Axes>"
      ]
     },
     "metadata": {
      "needs_background": "light"
     },
     "output_type": "display_data"
    }
   ],
   "source": [
    "#boxplot\n",
    "ab.age.plot(kind='box',\n",
    "                   title='Распределение возрастов', grid=True)"
   ]
  },
  {
   "cell_type": "code",
   "execution_count": 14,
   "id": "06d91232",
   "metadata": {},
   "outputs": [
    {
     "name": "stdout",
     "output_type": "stream",
     "text": [
      "Среднее:  5.371151996435672\n",
      "Медиана:  4.279564564612159\n",
      "95-персентиль:  13.694289876456235\n"
     ]
    }
   ],
   "source": [
    "#дистанция distance\n",
    "print('Среднее: ', ab.distance.mean())\n",
    "print('Медиана: ',ab.distance.median())\n",
    "print('95-персентиль: ',np.nanpercentile(ab.distance, 95))"
   ]
  },
  {
   "cell_type": "code",
   "execution_count": 30,
   "id": "c8ecab11",
   "metadata": {},
   "outputs": [
    {
     "data": {
      "text/plain": [
       "<AxesSubplot:title={'center':'Частотность'}, ylabel='Frequency'>"
      ]
     },
     "execution_count": 30,
     "metadata": {},
     "output_type": "execute_result"
    },
    {
     "data": {
      "image/png": "[encoded data removed]",
      "text/plain": [
       "<Figure size 432x288 with 1 Axes>"
      ]
     },
     "metadata": {
      "needs_background": "light"
     },
     "output_type": "display_data"
    }
   ],
   "source": [
    "#частотность\n",
    "ab.distance.plot(kind='hist',\n",
    "                   title='Частотность', bins=50)"
   ]
  },
  {
   "cell_type": "code",
   "execution_count": 36,
   "id": "40e30501",
   "metadata": {},
   "outputs": [
    {
     "data": {
      "text/plain": [
       "<AxesSubplot:title={'center':'Распределение дистанций'}>"
      ]
     },
     "execution_count": 36,
     "metadata": {},
     "output_type": "execute_result"
    },
    {
     "data": {
      "image/png": "[encoded data removed]",
      "text/plain": [
       "<Figure size 432x288 with 1 Axes>"
      ]
     },
     "metadata": {
      "needs_background": "light"
     },
     "output_type": "display_data"
    }
   ],
   "source": [
    "#boxplot\n",
    "ab.distance.plot(kind='box',\n",
    "                   title='Распределение дистанций', grid=True)"
   ]
  }
 ],
 "metadata": {
  "kernelspec": {
   "display_name": "Python 3",
   "language": "python",
   "name": "python3"
  },
  "language_info": {
   "codemirror_mode": {
    "name": "ipython",
    "version": 3
   },
   "file_extension": ".py",
   "mimetype": "text/x-python",
   "name": "python",
   "nbconvert_exporter": "python",
   "pygments_lexer": "ipython3",
   "version": "3.8.8"
  }
 },
 "nbformat": 4,
 "nbformat_minor": 5
}
